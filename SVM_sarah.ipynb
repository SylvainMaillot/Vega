{
 "cells": [
  {
   "cell_type": "code",
   "execution_count": 11,
   "metadata": {},
   "outputs": [],
   "source": [
    "# import the necessary packages\n",
    "import numpy as np\n",
    "import imutils\n",
    "import cv2\n",
    "import os\n",
    "import skimage\n",
    "import PIL\n",
    "import matplotlib\n",
    "from sklearn.svm import SVC\n",
    "from sklearn.model_selection import train_test_split\n",
    "from imutils import paths"
   ]
  },
  {
   "cell_type": "code",
   "execution_count": 12,
   "metadata": {
    "collapsed": true
   },
   "outputs": [],
   "source": [
    "def image_to_feature_vector(image, size=(32, 32)):\n",
    "# resize the image to a fixed size, then flatten the image into\n",
    "# a list of raw pixel intensities\n",
    "\treturn cv2.resize(image, size).flatten()\n",
    "\n",
    "def extract_color_histogram(image, bins=(8, 8, 8)):\n",
    "# extract a 3D color histogram from the HSV color space using\n",
    "# the supplied number of `bins` per channel\n",
    "#hsv = cv2.cvtColor(image, cv2.COLOR_BGR2HSV)\n",
    "\thist = cv2.calcHist(image, [0, 1, 2], None, bins,[0, 180, 0, 256, 0, 256])\n",
    "    \n",
    "# handle normalizing the histogram if we are using OpenCV 2.4.X\n",
    "\tif imutils.is_cv2():\n",
    "\t\thist = cv2.normalize(hist)\n",
    "\n",
    "# otherwise, perform \"in place\" normalization in OpenCV 3\n",
    "\telse:\n",
    "\t\tcv2.normalize(hist, hist)\n",
    "        \n",
    "# return the flattened histogram as the feature vector\n",
    "\treturn hist.flatten()"
   ]
  },
  {
   "cell_type": "code",
   "execution_count": 15,
   "metadata": {},
   "outputs": [],
   "source": [
    "# grab the list of images that we'll be describing\n",
    "# print(\"[INFO] describing images...\")\n",
    "imagePaths = list(paths.list_images(\"C:\\\\Users\\\\Sarah\\\\Documents\\\\GitHub\\\\Vega\\\\train_vega\"))"
   ]
  },
  {
   "cell_type": "code",
   "execution_count": 16,
   "metadata": {
    "collapsed": true
   },
   "outputs": [],
   "source": [
    "# initialize the raw pixel intensities matrix, the features matrix,\n",
    "# and labels list\n",
    "rawImages = []\n",
    "features = []\n",
    "distortion = []\n",
    "labels = []"
   ]
  },
  {
   "cell_type": "code",
   "execution_count": 18,
   "metadata": {},
   "outputs": [
    {
     "name": "stdout",
     "output_type": "stream",
     "text": [
      "[INFO] pixels matrix: 1.01MB\n",
      "[INFO] features matrix: 0.67MB\n"
     ]
    }
   ],
   "source": [
    "# loop over the input images\n",
    "for (i, imagePath) in enumerate(imagePaths):\n",
    "# load the image and extract the class label (assuming that our\n",
    "# path as the format: /path/to/dataset/{class}.{image_num}.jpg\n",
    "\timage = cv2.imread(imagePath)\n",
    "\timage_flip = cv2.flip(image,1)\n",
    "\tfor i in range(1, 11):\n",
    "\t\timage_dist = np.uint8(image + i*0.1 * image.std() * np.random.random(image.shape))\n",
    "\tlabel = imagePath.split(os.path.sep)[-1].split(\".\")[0]\n",
    "    \n",
    "\t# extract raw pixel intensity \"features\", followed by a color\n",
    "\t# histogram to characterize the color distribution of the pixels\n",
    "\t# in the image\n",
    "\tpixels = image_to_feature_vector(image)\n",
    "\tpixels_flip = image_to_feature_vector(image_flip)\n",
    "\tpixels_dist = image_to_feature_vector(image_dist)\n",
    "\thist = extract_color_histogram(image)\n",
    "\thist_flip = extract_color_histogram(image_flip)\n",
    "\thist_dist = extract_color_histogram(image_dist)\n",
    "\n",
    "\t# update the raw images, features and labels matricies,\n",
    "\t# respectively\n",
    "\trawImages.append(pixels)\n",
    "\trawImages.append(pixels_flip)\n",
    "\trawImages.append(pixels_dist)\n",
    "\tfeatures.append(hist)\n",
    "\tfeatures.append(hist_flip)\n",
    "\tfeatures.append(hist_dist)\n",
    "\tlabels.append(label)\n",
    "\tlabels.append(label)\n",
    "\tlabels.append(label)\n",
    "\n",
    "\t# show an update every 1,000 images\n",
    "\tif i > 0 and i % 1000 == 0:\n",
    "\t\tprint(\"[INFO] processed {}/{}\".format(i, len(imagePaths)))\n",
    "\n",
    "# show some information on the memory consumed by the raw images\n",
    "# matrix and features matrix\n",
    "rawImages = np.array(rawImages)\n",
    "features = np.array(features)\n",
    "labels = np.array(labels)\n",
    "print(\"[INFO] pixels matrix: {:.2f}MB\".format(\n",
    "\trawImages.nbytes / (1024 * 1000.0)))\n",
    "print(\"[INFO] features matrix: {:.2f}MB\".format(\n",
    "\tfeatures.nbytes / (1024 * 1000.0)))"
   ]
  },
  {
   "cell_type": "code",
   "execution_count": 20,
   "metadata": {},
   "outputs": [],
   "source": [
    "# partition the data into training and testing splits, using 75%\n",
    "# of the data for training and the remaining 25% for testing\n",
    "(trainRI, testRI, trainRL, testRL) = train_test_split(\n",
    "\trawImages, labels, test_size=0.25, random_state=42)\n",
    "(trainFeat, testFeat, trainLabels, testLabels) = train_test_split(\n",
    "\tfeatures, labels, test_size=0.25, random_state=42)"
   ]
  },
  {
   "cell_type": "code",
   "execution_count": 28,
   "metadata": {},
   "outputs": [
    {
     "name": "stdout",
     "output_type": "stream",
     "text": [
      "[INFO] evaluating raw pixel accuracy...\n",
      "[INFO] raw pixel accuracy: 69.05%\n",
      "['bouche' 'Plume' 'skara' 'Plume' 'oeil' 'Ankh' 'Plume' 'skara' 'skara'\n",
      " 'hibou' 'Plume' 'Plume' 'Ankh' 'bouche' 'hibou' 'oeil' 'lapin' 'lapin'\n",
      " 'hibou' 'skara' 'Plume' 'hibou' 'skara' 'skara' 'Ankh' 'skara' 'Ankh'\n",
      " 'Plume' 'hibou' 'bouche' 'skara' 'Plume' 'skara' 'skara' 'hibou' 'bouche'\n",
      " 'lapin' 'Plume' 'bouche' 'skara' 'bouche' 'Ankh' 'skara' 'Plume' 'hibou'\n",
      " 'Plume' 'skara' 'skara' 'skara' 'Ankh' 'hibou' 'skara' 'oeil' 'oeil'\n",
      " 'Plume' 'skara' 'Plume' 'skara' 'skara' 'Ankh' 'Ankh' 'Plume' 'bouche'\n",
      " 'skara' 'skara' 'Ankh' 'bouche' 'Plume' 'Ankh' 'Plume' 'skara' 'skara'\n",
      " 'Ankh' 'Ankh' 'hibou' 'hibou' 'skara' 'oeil' 'bouche' 'Plume' 'skara'\n",
      " 'oeil' 'hibou' 'hibou']\n"
     ]
    }
   ],
   "source": [
    "# train and evaluate a SVM classifer on the raw pixel intensities\n",
    "print(\"[INFO] evaluating raw pixel accuracy...\")\n",
    "model =  SVC(kernel='linear', C=1, random_state=0)\n",
    "model.fit(trainRI, trainRL)\n",
    "RL_pred = model.predict(testRI)\n",
    "acc = model.score(testRI, testRL)\n",
    "print(\"[INFO] raw pixel accuracy: {:.2f}%\".format(acc * 100))\n",
    "print(RL_pred)"
   ]
  },
  {
   "cell_type": "code",
   "execution_count": 27,
   "metadata": {},
   "outputs": [
    {
     "name": "stdout",
     "output_type": "stream",
     "text": [
      "[INFO] evaluating histogram accuracy...\n",
      "[INFO] histogram accuracy: 15.48%\n",
      "['Plume' 'Plume' 'Plume' 'Plume' 'Plume' 'Plume' 'Plume' 'Plume' 'Plume'\n",
      " 'Plume' 'Plume' 'Plume' 'Plume' 'Plume' 'Plume' 'Plume' 'Plume' 'Plume'\n",
      " 'Plume' 'Plume' 'Plume' 'Plume' 'Plume' 'Plume' 'Plume' 'Plume' 'Plume'\n",
      " 'Plume' 'Plume' 'Plume' 'Plume' 'Plume' 'Plume' 'Plume' 'Plume' 'Plume'\n",
      " 'Plume' 'Plume' 'Plume' 'Plume' 'Plume' 'Plume' 'Plume' 'Plume' 'Plume'\n",
      " 'Plume' 'Plume' 'Plume' 'Plume' 'Plume' 'Plume' 'Plume' 'Plume' 'Plume'\n",
      " 'Plume' 'Plume' 'Plume' 'Plume' 'Plume' 'Plume' 'Plume' 'Plume' 'Plume'\n",
      " 'Plume' 'Plume' 'Plume' 'Plume' 'Plume' 'Plume' 'Plume' 'Plume' 'Plume'\n",
      " 'Plume' 'Plume' 'Plume' 'Plume' 'Plume' 'Plume' 'Plume' 'Plume' 'Plume'\n",
      " 'Plume' 'Plume' 'Plume']\n"
     ]
    }
   ],
   "source": [
    "# train and evaluate a SVM classifer on the histogram\n",
    "# representations\n",
    "print(\"[INFO] evaluating histogram accuracy...\")\n",
    "model =  SVC(kernel='linear', C=1, random_state=0)\n",
    "model.fit(trainFeat, trainLabels)\n",
    "Labels_pred = model.predict(testFeat)\n",
    "acc = model.score(testFeat, testLabels)\n",
    "print(\"[INFO] histogram accuracy: {:.2f}%\".format(acc * 100))\n",
    "print(Labels_pred)"
   ]
  },
  {
   "cell_type": "code",
   "execution_count": 31,
   "metadata": {},
   "outputs": [
    {
     "name": "stdout",
     "output_type": "stream",
     "text": [
      "             precision    recall  f1-score   support\n",
      "\n",
      "       Ankh       0.83      0.67      0.74        15\n",
      "      Plume       0.65      0.85      0.73        13\n",
      "     bouche       0.56      0.45      0.50        11\n",
      "      hibou       0.83      0.59      0.69        17\n",
      "      lapin       1.00      1.00      1.00         3\n",
      "       oeil       0.83      0.56      0.67         9\n",
      "      skara       0.56      0.88      0.68        16\n",
      "\n",
      "avg / total       0.72      0.69      0.69        84\n",
      "\n",
      "             precision    recall  f1-score   support\n",
      "\n",
      "       Ankh       0.00      0.00      0.00        15\n",
      "      Plume       0.15      1.00      0.27        13\n",
      "     bouche       0.00      0.00      0.00        11\n",
      "      hibou       0.00      0.00      0.00        17\n",
      "      lapin       0.00      0.00      0.00         3\n",
      "       oeil       0.00      0.00      0.00         9\n",
      "      skara       0.00      0.00      0.00        16\n",
      "\n",
      "avg / total       0.02      0.15      0.04        84\n",
      "\n"
     ]
    },
    {
     "name": "stderr",
     "output_type": "stream",
     "text": [
      "C:\\Users\\Sarah\\Anaconda3\\lib\\site-packages\\sklearn\\metrics\\classification.py:1113: UndefinedMetricWarning: Precision and F-score are ill-defined and being set to 0.0 in labels with no predicted samples.\n",
      "  'precision', 'predicted', average, warn_for)\n"
     ]
    }
   ],
   "source": [
    "from sklearn import metrics\n",
    "#from sklearn.model_selection import cross_val_score\n",
    "from sklearn.cross_validation import cross_val_score\n",
    "from sklearn.cross_validation import train_test_split\n",
    "from sklearn.metrics import confusion_matrix\n",
    "from sklearn.metrics import precision_score, recall_score\n",
    "\n",
    "# evaluation modèle SVM\n",
    "print (metrics.classification_report(testRL, RL_pred))\n",
    "print (metrics.classification_report(testLabels, Labels_pred))"
   ]
  },
  {
   "cell_type": "code",
   "execution_count": null,
   "metadata": {
    "collapsed": true
   },
   "outputs": [],
   "source": []
  }
 ],
 "metadata": {
  "kernelspec": {
   "display_name": "Python 3",
   "language": "python",
   "name": "python3"
  },
  "language_info": {
   "codemirror_mode": {
    "name": "ipython",
    "version": 3
   },
   "file_extension": ".py",
   "mimetype": "text/x-python",
   "name": "python",
   "nbconvert_exporter": "python",
   "pygments_lexer": "ipython3",
   "version": "3.6.1"
  }
 },
 "nbformat": 4,
 "nbformat_minor": 2
}
