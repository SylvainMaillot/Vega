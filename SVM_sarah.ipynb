{
 "cells": [
  {
   "cell_type": "code",
   "execution_count": 9,
   "metadata": {},
   "outputs": [],
   "source": [
    "# import the necessary packages\n",
    "import numpy as np\n",
    "import imutils\n",
    "import cv2\n",
    "import os\n",
    "import skimage\n",
    "import PIL\n",
    "import matplotlib\n",
    "from sklearn.svm import SVC\n",
    "from sklearn.model_selection import train_test_split\n",
    "from imutils import paths\n",
    "\n",
    "from sklearn import metrics\n",
    "#from sklearn.model_selection import cross_val_score\n",
    "from sklearn.cross_validation import cross_val_score\n",
    "from sklearn.cross_validation import train_test_split\n",
    "from sklearn.metrics import confusion_matrix\n",
    "from sklearn.metrics import precision_score, recall_score"
   ]
  },
  {
   "cell_type": "code",
   "execution_count": 10,
   "metadata": {},
   "outputs": [],
   "source": [
    "# grab the list of images that we'll be describing\n",
    "# print(\"[INFO] describing images...\")\n",
    "imagePaths = list(paths.list_images(\".\"+os.sep+\"train_vega\"))\n",
    "\n",
    "# initialize the raw pixel intensities matrix, the features matrix, and labels list\n",
    "rawImages = []\n",
    "features = []\n",
    "labels = []\n",
    "images=[]"
   ]
  },
  {
   "cell_type": "code",
   "execution_count": 11,
   "metadata": {
    "collapsed": true
   },
   "outputs": [],
   "source": [
    "#Function for the images treatment\n",
    "def image_to_feature_vector(image, size=(32, 32)):\n",
    "    # resize the image to a fixed size, then flatten the image into\n",
    "    # a list of raw pixel intensities\n",
    "    return cv2.resize(image, size).flatten()\n",
    "\n",
    "def extract_color_histogram(image, bins=(8, 8, 8)):\n",
    "    # extract a 3D color histogram from the HSV color space using\n",
    "    # the supplied number of `bins` per channel\n",
    "    #hsv = cv2.cvtColor(image, cv2.COLOR_BGR2HSV)\n",
    "    hist = cv2.calcHist(image, [0, 1, 2], None, bins,[0, 180, 0, 256, 0, 256])\n",
    "    \n",
    "    # handle normalizing the histogram if we are using OpenCV 2.4.X\n",
    "    if imutils.is_cv2():\n",
    "        hist = cv2.normalize(hist)\n",
    "\n",
    "    # otherwise, perform \"in place\" normalization in OpenCV 3\n",
    "    else:\n",
    "        cv2.normalize(hist, hist)\n",
    "        \n",
    "    # return the flattened histogram as the feature vector\n",
    "    return hist.flatten()\n",
    "\n",
    "def create_distortion(image,number):\n",
    "    images = []\n",
    "    for i in range(1,number):\n",
    "        images.append(np.uint8(image + i*0.5* image.std() * np.random.random(image.shape)))\n",
    "    return images\n",
    "\n",
    "def image_treatment(image,label):\n",
    "    rawImages.append(image_to_feature_vector(image))\n",
    "    features.append(extract_color_histogram(image))\n",
    "    labels.append(label)"
   ]
  },
  {
   "cell_type": "code",
   "execution_count": 12,
   "metadata": {},
   "outputs": [
    {
     "name": "stdout",
     "output_type": "stream",
     "text": [
      "[INFO] processed 10/33\n",
      "[INFO] processed 20/33\n",
      "[INFO] processed 30/33\n",
      "Done\n"
     ]
    }
   ],
   "source": [
    "# loop over the input images\n",
    "for (i, imagePath) in enumerate(imagePaths):\n",
    "    # load the image and extract the class label (assuming that our\n",
    "    # path as the format: /path/to/dataset/{class}.{image_num}.jpg\n",
    "    \n",
    "    image = cv2.imread(imagePath)\n",
    "    tab_image = create_distortion(image,11)\n",
    "    \n",
    "    image_flip = cv2.flip(image,1)\n",
    "    tab_image_flip = create_distortion(image_flip,11)\n",
    "   \n",
    "    images = tab_image + tab_image_flip\n",
    "    images.append(image)\n",
    "    images.append(image_flip)\n",
    "    \n",
    "    label = imagePath.split(os.path.sep)[-1].split(\".\")[0]\n",
    "\n",
    "    for im in images:\n",
    "        image_treatment(im,label)\n",
    "\n",
    "    # show an update every 10 images\n",
    "    if i > 0 and i % 10 == 0:\n",
    "        print(\"[INFO] processed {}/{}\".format(i, len(imagePaths)))\n",
    "print(\"Done\")"
   ]
  },
  {
   "cell_type": "code",
   "execution_count": 13,
   "metadata": {
    "collapsed": true
   },
   "outputs": [],
   "source": [
    "# partition the data into training and testing splits, using 75%\n",
    "# of the data for training and the remaining 25% for testing\n",
    "(trainRI, testRI, trainRL, testRL) = train_test_split(\n",
    "    rawImages, labels, test_size=0.25, random_state=42)\n",
    "(trainFeat, testFeat, trainLabels, testLabels) = train_test_split(\n",
    "    features, labels, test_size=0.25, random_state=42)"
   ]
  },
  {
   "cell_type": "code",
   "execution_count": 44,
   "metadata": {},
   "outputs": [
    {
     "name": "stdout",
     "output_type": "stream",
     "text": [
      "[INFO] evaluating raw pixel accuracy\n",
      "[INFO] raw pixel accuracy for linear kernel:86.81%\n",
      "[INFO] raw pixel accuracy for poly kernel:86.26%\n",
      "[INFO] raw pixel accuracy for rbf kernel:70.33%\n",
      "[INFO] raw pixel accuracy for sigmoid kernel:70.33%\n"
     ]
    }
   ],
   "source": [
    "svm_kernel = [\"linear\",\"poly\",\"rbf\",\"sigmoid\"]\n",
    "# train and evaluate a SVM classifer on the raw pixel intensities\n",
    "print(\"[INFO] evaluating raw pixel accuracy\")\n",
    "scores_rawpixel = [];\n",
    "for k in range(len(svm_kernel)) :\n",
    "    model = SVC(kernel=svm_kernel[k], C=1, random_state=0)\n",
    "    model.fit(trainRI, trainRL)\n",
    "    RL_pred = model.predict(testRI)\n",
    "    acc = model.score(testRI, testRL)\n",
    "    scores_rawpixel.append(acc)\n",
    "    print(\"[INFO] raw pixel accuracy for\",svm_kernel[k],\"kernel:{:.2f}%\".format(acc * 100))"
   ]
  },
  {
   "cell_type": "code",
   "execution_count": 49,
   "metadata": {},
   "outputs": [
    {
     "data": {
      "image/png": "[encoded data removed]",
      "text/plain": [
       "<matplotlib.figure.Figure at 0x12f914194e0>"
      ]
     },
     "metadata": {},
     "output_type": "display_data"
    }
   ],
   "source": [
    "import matplotlib.pyplot as plt\n",
    "import numpy as np\n",
    "import pylab\n",
    "\n",
    "fig = plt.figure()\n",
    "\n",
    "x = [0,1,2,3]\n",
    "height = scores_rawpixel\n",
    "width = 1\n",
    "BarName = [\"linear\",\"poly\",\"rbf\",\"sigmoid\"]\n",
    "\n",
    "plt.bar(x, height, width)\n",
    "\n",
    "plt.xlim(0,4)\n",
    "plt.ylim(0,1)\n",
    "plt.grid()\n",
    "\n",
    "plt.ylabel('Accuracy')\n",
    "plt.title('Raw pixel accuracy by kernel')\n",
    "\n",
    "pylab.xticks(x, BarName, rotation=40)\n",
    "\n",
    "plt.savefig('SimpleBar.png')\n",
    "plt.show()"
   ]
  },
  {
   "cell_type": "code",
   "execution_count": 51,
   "metadata": {},
   "outputs": [
    {
     "name": "stdout",
     "output_type": "stream",
     "text": [
      "[INFO] evaluating histogram accuracy\n",
      "[INFO] raw pixel accuracy for linear kernel:70.33%\n",
      "[INFO] raw pixel accuracy for poly kernel:70.33%\n",
      "[INFO] raw pixel accuracy for rbf kernel:70.33%\n",
      "[INFO] raw pixel accuracy for sigmoid kernel:70.33%\n"
     ]
    }
   ],
   "source": [
    "# train and evaluate a SVM classifer on the histogram\n",
    "# representations\n",
    "print(\"[INFO] evaluating histogram accuracy\")\n",
    "scores_hist = [];\n",
    "for k in range(len(svm_kernel)) :\n",
    "    model = SVC(kernel=svm_kernel[k], C=1, random_state=0)\n",
    "    model.fit(trainFeat, trainLabels)\n",
    "    Labels_pred = model.predict(testFeat)\n",
    "    acc = model.score(testFeat, testLabels)\n",
    "    scores_hist.append(acc)\n",
    "    print(\"[INFO] raw pixel accuracy for\",svm_kernel[k],\"kernel:{:.2f}%\".format(acc * 100))"
   ]
  },
  {
   "cell_type": "code",
   "execution_count": 54,
   "metadata": {},
   "outputs": [
    {
     "data": {
      "image/png": "[encoded data removed]",
      "text/plain": [
       "<matplotlib.figure.Figure at 0x12f8a699048>"
      ]
     },
     "metadata": {},
     "output_type": "display_data"
    }
   ],
   "source": [
    "import matplotlib.pyplot as plt\n",
    "import numpy as np\n",
    "import pylab\n",
    "\n",
    "fig = plt.figure()\n",
    "\n",
    "x = x = [0,1,2,3]\n",
    "height = scores_hist\n",
    "width = 1\n",
    "BarName = [\"linear\",\"poly\",\"rbf\",\"sigmoid\"]\n",
    "\n",
    "plt.bar(x, height, width)\n",
    "\n",
    "plt.xlim(0,4)\n",
    "plt.ylim(0,1)\n",
    "plt.grid()\n",
    "\n",
    "plt.ylabel('Accuracy')\n",
    "plt.title('Raw pixel accuracy by kernel')\n",
    "\n",
    "pylab.xticks(x, BarName, rotation=40)\n",
    "\n",
    "plt.savefig('SimpleBar.png')\n",
    "plt.show()"
   ]
  },
  {
   "cell_type": "code",
   "execution_count": 56,
   "metadata": {},
   "outputs": [
    {
     "name": "stdout",
     "output_type": "stream",
     "text": [
      "             precision    recall  f1-score   support\n",
      "\n",
      "       Ankh       0.70      1.00      0.83       128\n",
      "     bouche       0.00      0.00      0.00        54\n",
      "\n",
      "avg / total       0.49      0.70      0.58       182\n",
      "\n",
      "---------------------------------------------------------------------------\n",
      "             precision    recall  f1-score   support\n",
      "\n",
      "       Ankh       0.70      1.00      0.83       128\n",
      "     bouche       0.00      0.00      0.00        54\n",
      "\n",
      "avg / total       0.49      0.70      0.58       182\n",
      "\n"
     ]
    },
    {
     "name": "stderr",
     "output_type": "stream",
     "text": [
      "C:\\Users\\Sarah\\Anaconda3\\lib\\site-packages\\sklearn\\metrics\\classification.py:1113: UndefinedMetricWarning: Precision and F-score are ill-defined and being set to 0.0 in labels with no predicted samples.\n",
      "  'precision', 'predicted', average, warn_for)\n"
     ]
    }
   ],
   "source": [
    "# evaluation modèle SVM\n",
    "print (metrics.classification_report(testRL, RL_pred))\n",
    "print (\"---------------------------------------------------------------------------\")\n",
    "print (metrics.classification_report(testLabels, Labels_pred))"
   ]
  },
  {
   "cell_type": "code",
   "execution_count": null,
   "metadata": {
    "collapsed": true
   },
   "outputs": [],
   "source": []
  }
 ],
 "metadata": {
  "kernelspec": {
   "display_name": "Python 3",
   "language": "python",
   "name": "python3"
  },
  "language_info": {
   "codemirror_mode": {
    "name": "ipython",
    "version": 3
   },
   "file_extension": ".py",
   "mimetype": "text/x-python",
   "name": "python",
   "nbconvert_exporter": "python",
   "pygments_lexer": "ipython3",
   "version": "3.6.1"
  }
 },
 "nbformat": 4,
 "nbformat_minor": 2
}
