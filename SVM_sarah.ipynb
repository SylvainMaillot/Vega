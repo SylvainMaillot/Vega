{
 "cells": [
  {
   "cell_type": "code",
   "execution_count": 1,
   "metadata": {
    "collapsed": true
   },
   "outputs": [],
   "source": [
    "# import the necessary packages\n",
    "import numpy as np\n",
    "import imutils\n",
    "import cv2\n",
    "import os\n",
    "import skimage\n",
    "import PIL\n",
    "import matplotlib\n",
    "from sklearn.svm import SVC\n",
    "from sklearn.model_selection import train_test_split\n",
    "from imutils import paths"
   ]
  },
  {
   "cell_type": "code",
   "execution_count": 2,
   "metadata": {
    "collapsed": true
   },
   "outputs": [],
   "source": [
    "# resize the image to a fixed size, then flatten the image into\n",
    "# a list of raw pixel intensities\n",
    "def image_to_feature_vector (image,size=(32,32)):\n",
    "    return cv2.resize(image, size).flatten()\n",
    "\n",
    "# extract a 3D color histogram from the HSV color space using\n",
    "# the supplied number of `bins` per channel\n",
    "# hsv = cv2.cvtColor(image, cv2.COLOR_BGR2HSV)\n",
    "def extract_color_histogram(image,bins=(8,8,8)):\n",
    "    hist=cv2.calcHist(image, [0,1,2], None, bins, [0,180,0,256,0,256])\n",
    " \n",
    "    if imutils.is_cv2(): # handle normalizing the histogram if we are using OpenCV 2.4.X\n",
    "        hist=cv2.normalize(hist)\n",
    "    else :# otherwise, perform \"in place\" normalization in OpenCV 3\n",
    "        cv2.normalize(hist,hist)\n",
    "        return hist.flatten() # return the flattened histogram as the feature vector"
   ]
  },
  {
   "cell_type": "code",
   "execution_count": 3,
   "metadata": {
    "collapsed": true
   },
   "outputs": [],
   "source": [
    "# grab the list of images that we'll be describing\n",
    "# print(\"[INFO] describing images...\")\n",
    "imagePaths = list(paths.list_images(\"C:\\\\Users\\\\Sarah\\\\Documents\\\\GitHub\\\\Vega\\\\train_vega\"))"
   ]
  },
  {
   "cell_type": "code",
   "execution_count": 4,
   "metadata": {
    "collapsed": true
   },
   "outputs": [],
   "source": [
    "# initialize the raw pixel intensities matrix, the features matrix,\n",
    "# and labels list\n",
    "rawImages = []\n",
    "features = []\n",
    "distortion = []\n",
    "labels = []"
   ]
  },
  {
   "cell_type": "code",
   "execution_count": 5,
   "metadata": {},
   "outputs": [
    {
     "name": "stdout",
     "output_type": "stream",
     "text": [
      "[INFO] pixels matrix: 1.01MB\n",
      "[INFO] features matrix: 0.67MB\n"
     ]
    }
   ],
   "source": [
    "# loop over the input images\n",
    "for (i, imagePath) in enumerate(imagePaths):\n",
    "# load the image and extract the class label (assuming that our\n",
    "# path as the format: /path/to/dataset/{class}.{image_num}.jpg\n",
    "    image = cv2.imread(imagePath)\n",
    "    image_flip = cv2.flip(image,1)\n",
    "    for i in range(1, 11):\n",
    "        image_dist = np.uint8(image + i*0.1 * image.std() * np.random.random(image.shape))\n",
    "        label = imagePath.split(os.path.sep)[-1].split(\".\")[0]\n",
    "    \n",
    "# extract raw pixel intensity \"features\", followed by a color\n",
    "# histogram to characterize the color distribution of the pixels\n",
    "# in the image\n",
    "    pixels = image_to_feature_vector(image)\n",
    "    pixels_flip = image_to_feature_vector(image_flip)\n",
    "    pixels_dist = image_to_feature_vector(image_dist)\n",
    "    hist = extract_color_histogram(image)\n",
    "    hist_flip = extract_color_histogram(image_flip)\n",
    "    hist_dist = extract_color_histogram(image_dist)\n",
    "\n",
    "# update the raw images, features and labels matricies,\n",
    "# respectively\n",
    "    rawImages.append(pixels)\n",
    "    rawImages.append(pixels_flip)\n",
    "    rawImages.append(pixels_dist)\n",
    "    features.append(hist)\n",
    "    features.append(hist_flip)\n",
    "    features.append(hist_dist)\n",
    "    labels.append(label)\n",
    "    labels.append(label)\n",
    "    labels.append(label)\n",
    "\n",
    "# show an update every 1,000 images\n",
    "    if i > 0 and i % 1000 == 0:\n",
    "        print(\"[INFO] processed {}/{}\".format(i, len(imagePaths)))\n",
    "\n",
    "# show some information on the memory consumed by the raw images\n",
    "# matrix and features matrix\n",
    "rawImages = np.array(rawImages)\n",
    "features = np.array(features)\n",
    "labels = np.array(labels)\n",
    "print(\"[INFO] pixels matrix: {:.2f}MB\".format(\n",
    "    rawImages.nbytes / (1024 * 1000.0)))\n",
    "print(\"[INFO] features matrix: {:.2f}MB\".format(\n",
    "    features.nbytes / (1024 * 1000.0)))"
   ]
  },
  {
   "cell_type": "code",
   "execution_count": 6,
   "metadata": {
    "collapsed": true
   },
   "outputs": [],
   "source": [
    "# partition the data into training and testing splits, using 75%\n",
    "# of the data for training and the remaining 25% for testing\n",
    "(trainRI, testRI, trainRL, testRL) = train_test_split(\n",
    "    rawImages, labels, test_size=0.25, random_state=42)\n",
    "(trainFeat, testFeat, trainLabels, testLabels) = train_test_split(\n",
    "    features, labels, test_size=0.25, random_state=42)"
   ]
  },
  {
   "cell_type": "code",
   "execution_count": 7,
   "metadata": {},
   "outputs": [
    {
     "name": "stdout",
     "output_type": "stream",
     "text": [
      "[INFO] evaluating raw pixel accuracy...\n",
      "[INFO] raw pixel accuracy: 69.05%\n",
      "['bouche' 'Plume' 'skara' 'Plume' 'oeil' 'Ankh' 'Plume' 'skara' 'skara'\n",
      " 'hibou' 'Plume' 'Plume' 'Ankh' 'bouche' 'hibou' 'oeil' 'lapin' 'lapin'\n",
      " 'hibou' 'skara' 'Plume' 'hibou' 'skara' 'skara' 'Ankh' 'skara' 'Ankh'\n",
      " 'Plume' 'hibou' 'bouche' 'skara' 'Plume' 'skara' 'skara' 'hibou' 'bouche'\n",
      " 'lapin' 'Plume' 'bouche' 'skara' 'bouche' 'Ankh' 'skara' 'Plume' 'hibou'\n",
      " 'Plume' 'skara' 'skara' 'skara' 'Ankh' 'Plume' 'skara' 'oeil' 'oeil'\n",
      " 'Plume' 'skara' 'Plume' 'skara' 'skara' 'Ankh' 'Ankh' 'Plume' 'bouche'\n",
      " 'skara' 'skara' 'Ankh' 'bouche' 'Plume' 'Ankh' 'Plume' 'skara' 'skara'\n",
      " 'Ankh' 'Ankh' 'hibou' 'hibou' 'skara' 'oeil' 'bouche' 'hibou' 'skara'\n",
      " 'oeil' 'hibou' 'hibou']\n",
      "[INFO] raw pixel accuracy: 69.05%\n",
      "['bouche' 'Plume' 'skara' 'Plume' 'oeil' 'Ankh' 'Plume' 'skara' 'skara'\n",
      " 'hibou' 'Plume' 'Plume' 'Ankh' 'bouche' 'hibou' 'oeil' 'lapin' 'lapin'\n",
      " 'hibou' 'skara' 'Plume' 'hibou' 'skara' 'skara' 'Ankh' 'Ankh' 'Ankh'\n",
      " 'Plume' 'hibou' 'bouche' 'skara' 'Plume' 'skara' 'skara' 'hibou' 'bouche'\n",
      " 'lapin' 'Plume' 'bouche' 'skara' 'bouche' 'Ankh' 'Plume' 'Plume' 'hibou'\n",
      " 'Plume' 'skara' 'skara' 'skara' 'Ankh' 'Plume' 'skara' 'oeil' 'oeil'\n",
      " 'Plume' 'skara' 'Plume' 'skara' 'skara' 'Ankh' 'Ankh' 'lapin' 'bouche'\n",
      " 'skara' 'skara' 'Ankh' 'bouche' 'Plume' 'Ankh' 'Plume' 'skara' 'skara'\n",
      " 'Ankh' 'Ankh' 'hibou' 'skara' 'skara' 'oeil' 'bouche' 'hibou' 'skara'\n",
      " 'oeil' 'hibou' 'hibou']\n",
      "[INFO] raw pixel accuracy: 14.29%\n",
      "['Plume' 'Plume' 'Plume' 'Plume' 'Plume' 'Plume' 'Plume' 'Plume' 'Plume'\n",
      " 'Plume' 'Plume' 'Plume' 'Plume' 'Plume' 'Plume' 'Plume' 'Plume' 'Plume'\n",
      " 'Plume' 'Plume' 'Plume' 'Plume' 'Plume' 'Plume' 'Plume' 'Plume' 'Plume'\n",
      " 'Plume' 'hibou' 'Plume' 'Plume' 'Plume' 'Plume' 'Plume' 'Plume' 'Plume'\n",
      " 'Plume' 'Plume' 'Plume' 'Plume' 'Plume' 'Plume' 'Plume' 'Plume' 'Plume'\n",
      " 'Plume' 'Plume' 'Plume' 'Plume' 'Plume' 'Plume' 'Plume' 'Plume' 'Plume'\n",
      " 'Plume' 'Plume' 'Plume' 'Plume' 'Plume' 'Plume' 'Plume' 'Plume' 'Plume'\n",
      " 'Plume' 'Plume' 'Plume' 'Plume' 'Plume' 'Plume' 'Plume' 'Plume' 'Plume'\n",
      " 'Plume' 'Plume' 'Plume' 'Plume' 'Plume' 'Plume' 'Plume' 'Plume' 'Plume'\n",
      " 'Plume' 'Plume' 'Plume']\n",
      "[INFO] raw pixel accuracy: 15.48%\n",
      "['Plume' 'Plume' 'Plume' 'Plume' 'Plume' 'Plume' 'Plume' 'Plume' 'Plume'\n",
      " 'Plume' 'Plume' 'Plume' 'Plume' 'Plume' 'Plume' 'Plume' 'Plume' 'Plume'\n",
      " 'Plume' 'Plume' 'Plume' 'Plume' 'Plume' 'Plume' 'Plume' 'Plume' 'Plume'\n",
      " 'Plume' 'Plume' 'Plume' 'Plume' 'Plume' 'Plume' 'Plume' 'Plume' 'Plume'\n",
      " 'Plume' 'Plume' 'Plume' 'Plume' 'Plume' 'Plume' 'Plume' 'Plume' 'Plume'\n",
      " 'Plume' 'Plume' 'Plume' 'Plume' 'Plume' 'Plume' 'Plume' 'Plume' 'Plume'\n",
      " 'Plume' 'Plume' 'Plume' 'Plume' 'Plume' 'Plume' 'Plume' 'Plume' 'Plume'\n",
      " 'Plume' 'Plume' 'Plume' 'Plume' 'Plume' 'Plume' 'Plume' 'Plume' 'Plume'\n",
      " 'Plume' 'Plume' 'Plume' 'Plume' 'Plume' 'Plume' 'Plume' 'Plume' 'Plume'\n",
      " 'Plume' 'Plume' 'Plume']\n"
     ]
    }
   ],
   "source": [
    "svm_kernel = [\"linear\",\"poly\",\"rbf\",\"sigmoid\"]\n",
    "# train and evaluate a SVM classifer on the raw pixel intensities\n",
    "print(\"[INFO] evaluating raw pixel accuracy...\")\n",
    "for k in range(len(svm_kernel)) :\n",
    "    model = SVC(kernel=svm_kernel[k], C=1, random_state=0)\n",
    "    model.fit(trainRI, trainRL)\n",
    "    RL_pred = model.predict(testRI)\n",
    "    acc = model.score(testRI, testRL)\n",
    "    print(\"[INFO] raw pixel accuracy: {:.2f}%\".format(acc * 100))\n",
    "    print(RL_pred)"
   ]
  },
  {
   "cell_type": "code",
   "execution_count": 8,
   "metadata": {},
   "outputs": [
    {
     "name": "stdout",
     "output_type": "stream",
     "text": [
      "[INFO] evaluating histogram accuracy...\n",
      "[INFO] histogram accuracy: 15.48%\n",
      "['Plume' 'Plume' 'Plume' 'Plume' 'Plume' 'Plume' 'Plume' 'Plume' 'Plume'\n",
      " 'Plume' 'Plume' 'Plume' 'Plume' 'Plume' 'Plume' 'Plume' 'Plume' 'Plume'\n",
      " 'Plume' 'Plume' 'Plume' 'Plume' 'Plume' 'Plume' 'Plume' 'Plume' 'Plume'\n",
      " 'Plume' 'Plume' 'Plume' 'Plume' 'Plume' 'Plume' 'Plume' 'Plume' 'Plume'\n",
      " 'Plume' 'Plume' 'Plume' 'Plume' 'Plume' 'Plume' 'Plume' 'Plume' 'Plume'\n",
      " 'Plume' 'Plume' 'Plume' 'Plume' 'Plume' 'Plume' 'Plume' 'Plume' 'Plume'\n",
      " 'Plume' 'Plume' 'Plume' 'Plume' 'Plume' 'Plume' 'Plume' 'Plume' 'Plume'\n",
      " 'Plume' 'Plume' 'Plume' 'Plume' 'Plume' 'Plume' 'Plume' 'Plume' 'Plume'\n",
      " 'Plume' 'Plume' 'Plume' 'Plume' 'Plume' 'Plume' 'Plume' 'Plume' 'Plume'\n",
      " 'Plume' 'Plume' 'Plume']\n",
      "[INFO] histogram accuracy: 15.48%\n",
      "['Plume' 'Plume' 'Plume' 'Plume' 'Plume' 'Plume' 'Plume' 'Plume' 'Plume'\n",
      " 'Plume' 'Plume' 'Plume' 'Plume' 'Plume' 'Plume' 'Plume' 'Plume' 'Plume'\n",
      " 'Plume' 'Plume' 'Plume' 'Plume' 'Plume' 'Plume' 'Plume' 'Plume' 'Plume'\n",
      " 'Plume' 'Plume' 'Plume' 'Plume' 'Plume' 'Plume' 'Plume' 'Plume' 'Plume'\n",
      " 'Plume' 'Plume' 'Plume' 'Plume' 'Plume' 'Plume' 'Plume' 'Plume' 'Plume'\n",
      " 'Plume' 'Plume' 'Plume' 'Plume' 'Plume' 'Plume' 'Plume' 'Plume' 'Plume'\n",
      " 'Plume' 'Plume' 'Plume' 'Plume' 'Plume' 'Plume' 'Plume' 'Plume' 'Plume'\n",
      " 'Plume' 'Plume' 'Plume' 'Plume' 'Plume' 'Plume' 'Plume' 'Plume' 'Plume'\n",
      " 'Plume' 'Plume' 'Plume' 'Plume' 'Plume' 'Plume' 'Plume' 'Plume' 'Plume'\n",
      " 'Plume' 'Plume' 'Plume']\n",
      "[INFO] histogram accuracy: 15.48%\n",
      "['Plume' 'Plume' 'Plume' 'Plume' 'Plume' 'Plume' 'Plume' 'Plume' 'Plume'\n",
      " 'Plume' 'Plume' 'Plume' 'Plume' 'Plume' 'Plume' 'Plume' 'Plume' 'Plume'\n",
      " 'Plume' 'Plume' 'Plume' 'Plume' 'Plume' 'Plume' 'Plume' 'Plume' 'Plume'\n",
      " 'Plume' 'Plume' 'Plume' 'Plume' 'Plume' 'Plume' 'Plume' 'Plume' 'Plume'\n",
      " 'Plume' 'Plume' 'Plume' 'Plume' 'Plume' 'Plume' 'Plume' 'Plume' 'Plume'\n",
      " 'Plume' 'Plume' 'Plume' 'Plume' 'Plume' 'Plume' 'Plume' 'Plume' 'Plume'\n",
      " 'Plume' 'Plume' 'Plume' 'Plume' 'Plume' 'Plume' 'Plume' 'Plume' 'Plume'\n",
      " 'Plume' 'Plume' 'Plume' 'Plume' 'Plume' 'Plume' 'Plume' 'Plume' 'Plume'\n",
      " 'Plume' 'Plume' 'Plume' 'Plume' 'Plume' 'Plume' 'Plume' 'Plume' 'Plume'\n",
      " 'Plume' 'Plume' 'Plume']\n",
      "[INFO] histogram accuracy: 15.48%\n",
      "['Plume' 'Plume' 'Plume' 'Plume' 'Plume' 'Plume' 'Plume' 'Plume' 'Plume'\n",
      " 'Plume' 'Plume' 'Plume' 'Plume' 'Plume' 'Plume' 'Plume' 'Plume' 'Plume'\n",
      " 'Plume' 'Plume' 'Plume' 'Plume' 'Plume' 'Plume' 'Plume' 'Plume' 'Plume'\n",
      " 'Plume' 'Plume' 'Plume' 'Plume' 'Plume' 'Plume' 'Plume' 'Plume' 'Plume'\n",
      " 'Plume' 'Plume' 'Plume' 'Plume' 'Plume' 'Plume' 'Plume' 'Plume' 'Plume'\n",
      " 'Plume' 'Plume' 'Plume' 'Plume' 'Plume' 'Plume' 'Plume' 'Plume' 'Plume'\n",
      " 'Plume' 'Plume' 'Plume' 'Plume' 'Plume' 'Plume' 'Plume' 'Plume' 'Plume'\n",
      " 'Plume' 'Plume' 'Plume' 'Plume' 'Plume' 'Plume' 'Plume' 'Plume' 'Plume'\n",
      " 'Plume' 'Plume' 'Plume' 'Plume' 'Plume' 'Plume' 'Plume' 'Plume' 'Plume'\n",
      " 'Plume' 'Plume' 'Plume']\n"
     ]
    }
   ],
   "source": [
    "# train and evaluate a SVM classifer on the histogram\n",
    "# representations\n",
    "print(\"[INFO] evaluating histogram accuracy...\")\n",
    "for k in range(len(svm_kernel)) :\n",
    "    model = SVC(kernel=svm_kernel[k], C=1, random_state=0)\n",
    "    model.fit(trainFeat, trainLabels)\n",
    "    Labels_pred = model.predict(testFeat)\n",
    "    acc = model.score(testFeat, testLabels)\n",
    "    print(\"[INFO] histogram accuracy: {:.2f}%\".format(acc * 100))\n",
    "    print(Labels_pred)"
   ]
  },
  {
   "cell_type": "code",
   "execution_count": 9,
   "metadata": {},
   "outputs": [
    {
     "name": "stdout",
     "output_type": "stream",
     "text": [
      "             precision    recall  f1-score   support\n",
      "\n",
      "       Ankh       0.00      0.00      0.00        15\n",
      "      Plume       0.15      1.00      0.27        13\n",
      "     bouche       0.00      0.00      0.00        11\n",
      "      hibou       0.00      0.00      0.00        17\n",
      "      lapin       0.00      0.00      0.00         3\n",
      "       oeil       0.00      0.00      0.00         9\n",
      "      skara       0.00      0.00      0.00        16\n",
      "\n",
      "avg / total       0.02      0.15      0.04        84\n",
      "\n",
      "             precision    recall  f1-score   support\n",
      "\n",
      "       Ankh       0.00      0.00      0.00        15\n",
      "      Plume       0.15      1.00      0.27        13\n",
      "     bouche       0.00      0.00      0.00        11\n",
      "      hibou       0.00      0.00      0.00        17\n",
      "      lapin       0.00      0.00      0.00         3\n",
      "       oeil       0.00      0.00      0.00         9\n",
      "      skara       0.00      0.00      0.00        16\n",
      "\n",
      "avg / total       0.02      0.15      0.04        84\n",
      "\n"
     ]
    },
    {
     "name": "stderr",
     "output_type": "stream",
     "text": [
      "C:\\Users\\Sarah\\Anaconda3\\lib\\site-packages\\sklearn\\cross_validation.py:44: DeprecationWarning: This module was deprecated in version 0.18 in favor of the model_selection module into which all the refactored classes and functions are moved. Also note that the interface of the new CV iterators are different from that of this module. This module will be removed in 0.20.\n",
      "  \"This module will be removed in 0.20.\", DeprecationWarning)\n",
      "C:\\Users\\Sarah\\Anaconda3\\lib\\site-packages\\sklearn\\metrics\\classification.py:1113: UndefinedMetricWarning: Precision and F-score are ill-defined and being set to 0.0 in labels with no predicted samples.\n",
      "  'precision', 'predicted', average, warn_for)\n"
     ]
    }
   ],
   "source": [
    "from sklearn import metrics\n",
    "#from sklearn.model_selection import cross_val_score\n",
    "from sklearn.cross_validation import cross_val_score\n",
    "from sklearn.cross_validation import train_test_split\n",
    "from sklearn.metrics import confusion_matrix\n",
    "from sklearn.metrics import precision_score, recall_score\n",
    "\n",
    "# evaluation modèle SVM\n",
    "print (metrics.classification_report(testRL, RL_pred))\n",
    "print (metrics.classification_report(testLabels, Labels_pred))"
   ]
  },
  {
   "cell_type": "code",
   "execution_count": null,
   "metadata": {
    "collapsed": true
   },
   "outputs": [],
   "source": []
  }
 ],
 "metadata": {
  "kernelspec": {
   "display_name": "Python 3",
   "language": "python",
   "name": "python3"
  },
  "language_info": {
   "codemirror_mode": {
    "name": "ipython",
    "version": 3
   },
   "file_extension": ".py",
   "mimetype": "text/x-python",
   "name": "python",
   "nbconvert_exporter": "python",
   "pygments_lexer": "ipython3",
   "version": "3.6.1"
  }
 },
 "nbformat": 4,
 "nbformat_minor": 2
}
