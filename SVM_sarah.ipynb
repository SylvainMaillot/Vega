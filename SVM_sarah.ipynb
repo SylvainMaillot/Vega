{
 "cells": [
  {
   "cell_type": "code",
   "execution_count": 1,
   "metadata": {},
   "outputs": [
    {
     "name": "stderr",
     "output_type": "stream",
     "text": [
      "C:\\Users\\Sarah\\Anaconda3\\lib\\site-packages\\sklearn\\cross_validation.py:44: DeprecationWarning: This module was deprecated in version 0.18 in favor of the model_selection module into which all the refactored classes and functions are moved. Also note that the interface of the new CV iterators are different from that of this module. This module will be removed in 0.20.\n",
      "  \"This module will be removed in 0.20.\", DeprecationWarning)\n"
     ]
    }
   ],
   "source": [
    "# import the necessary packages\n",
    "import numpy as np\n",
    "import imutils\n",
    "import cv2\n",
    "import os\n",
    "import skimage\n",
    "import PIL\n",
    "import matplotlib\n",
    "from sklearn.svm import SVC\n",
    "from sklearn.model_selection import train_test_split\n",
    "from imutils import paths\n",
    "\n",
    "from sklearn import metrics\n",
    "#from sklearn.model_selection import cross_val_score\n",
    "from sklearn.cross_validation import cross_val_score\n",
    "from sklearn.cross_validation import train_test_split\n",
    "from sklearn.metrics import confusion_matrix\n",
    "from sklearn.metrics import precision_score, recall_score"
   ]
  },
  {
   "cell_type": "code",
   "execution_count": 2,
   "metadata": {
    "collapsed": true
   },
   "outputs": [],
   "source": [
    "# grab the list of images that we'll be describing\n",
    "# print(\"[INFO] describing images...\")\n",
    "imagePaths = list(paths.list_images(\".\"+os.sep+\"train_vega\"))\n",
    "\n",
    "# initialize the raw pixel intensities matrix, the features matrix, and labels list\n",
    "rawImages = []\n",
    "features = []\n",
    "labels = []\n",
    "images=[]"
   ]
  },
  {
   "cell_type": "code",
   "execution_count": 3,
   "metadata": {
    "collapsed": true
   },
   "outputs": [],
   "source": [
    "#Function for the images treatment\n",
    "def image_to_feature_vector(image, size=(32, 32)):\n",
    "    # resize the image to a fixed size, then flatten the image into\n",
    "    # a list of raw pixel intensities\n",
    "    return cv2.resize(image, size).flatten()\n",
    "\n",
    "def extract_color_histogram(image, bins=(8, 8, 8)):\n",
    "    # extract a 3D color histogram from the HSV color space using\n",
    "    # the supplied number of `bins` per channel\n",
    "    #hsv = cv2.cvtColor(image, cv2.COLOR_BGR2HSV)\n",
    "    hist = cv2.calcHist(image, [0, 1, 2], None, bins,[0, 180, 0, 256, 0, 256])\n",
    "    \n",
    "    # handle normalizing the histogram if we are using OpenCV 2.4.X\n",
    "    if imutils.is_cv2():\n",
    "        hist = cv2.normalize(hist)\n",
    "\n",
    "    # otherwise, perform \"in place\" normalization in OpenCV 3\n",
    "    else:\n",
    "        cv2.normalize(hist, hist)\n",
    "        \n",
    "    # return the flattened histogram as the feature vector\n",
    "    return hist.flatten()\n",
    "\n",
    "def create_distortion(image,number):\n",
    "    images = []\n",
    "    for i in range(1,number):\n",
    "        images.append(np.uint8(image + i*0.5* image.std() * np.random.random(image.shape)))\n",
    "    return images\n",
    "\n",
    "def image_treatment(image,label):\n",
    "    rawImages.append(image_to_feature_vector(image))\n",
    "    features.append(extract_color_histogram(image))\n",
    "    labels.append(label)"
   ]
  },
  {
   "cell_type": "code",
   "execution_count": 4,
   "metadata": {},
   "outputs": [
    {
     "name": "stdout",
     "output_type": "stream",
     "text": [
      "Done\n"
     ]
    }
   ],
   "source": [
    "# loop over the input images\n",
    "for (i, imagePath) in enumerate(imagePaths):\n",
    "    # load the image and extract the class label (assuming that our\n",
    "    # path as the format: /path/to/dataset/{class}.{image_num}.jpg\n",
    "    \n",
    "    image = cv2.imread(imagePath)\n",
    "    tab_image = create_distortion(image,11)\n",
    "    \n",
    "    image_flip = cv2.flip(image,1)\n",
    "    tab_image_flip = create_distortion(image_flip,11)\n",
    "   \n",
    "    images = tab_image + tab_image_flip\n",
    "    images.append(image)\n",
    "    images.append(image_flip)\n",
    "    \n",
    "    label = imagePath.split(os.path.sep)[-1].split(\".\")[0]\n",
    "\n",
    "    for im in images:\n",
    "        image_treatment(im,label)\n",
    "\n",
    "    # show an update every 10 images\n",
    "    if i > 0 and i % 10 == 0:\n",
    "        print(\"[INFO] processed {}/{}\".format(i, len(imagePaths)))\n",
    "print(\"Done\")"
   ]
  },
  {
   "cell_type": "code",
   "execution_count": 5,
   "metadata": {
    "collapsed": true
   },
   "outputs": [],
   "source": [
    "# partition the data into training and testing splits, using 75%\n",
    "# of the data for training and the remaining 25% for testing\n",
    "(trainRI, testRI, trainRL, testRL) = train_test_split(\n",
    "    rawImages, labels, test_size=0.25, random_state=42)\n",
    "(trainFeat, testFeat, trainLabels, testLabels) = train_test_split(\n",
    "    features, labels, test_size=0.25, random_state=42)"
   ]
  },
  {
   "cell_type": "code",
   "execution_count": 6,
   "metadata": {},
   "outputs": [
    {
     "name": "stdout",
     "output_type": "stream",
     "text": [
      "[INFO] evaluating raw pixel accuracy\n",
      "[INFO] raw pixel accuracy for linear kernel:76.00%\n",
      "[INFO] raw pixel accuracy for poly kernel:72.00%\n",
      "[INFO] raw pixel accuracy for rbf kernel:56.00%\n",
      "[INFO] raw pixel accuracy for sigmoid kernel:56.00%\n"
     ]
    }
   ],
   "source": [
    "svm_kernel = [\"linear\",\"poly\",\"rbf\",\"sigmoid\"]\n",
    "# train and evaluate a SVM classifer on the raw pixel intensities\n",
    "print(\"[INFO] evaluating raw pixel accuracy\")\n",
    "scores_rawpixel = [];\n",
    "for k in range(len(svm_kernel)) :\n",
    "    model = SVC(kernel=svm_kernel[k], C=1, random_state=0)\n",
    "    model.fit(trainRI, trainRL)\n",
    "    RL_pred = model.predict(testRI)\n",
    "    acc = model.score(testRI, testRL)\n",
    "    scores_rawpixel.append(acc)\n",
    "    print(\"[INFO] raw pixel accuracy for\",svm_kernel[k],\"kernel:{:.2f}%\".format(acc * 100))"
   ]
  },
  {
   "cell_type": "code",
   "execution_count": 8,
   "metadata": {},
   "outputs": [
    {
     "name": "stdout",
     "output_type": "stream",
     "text": [
      "[INFO] evaluating histogram accuracy\n",
      "[INFO] raw pixel accuracy for linear kernel:66.00%\n",
      "[INFO] raw pixel accuracy for poly kernel:56.00%\n",
      "[INFO] raw pixel accuracy for rbf kernel:56.00%\n",
      "[INFO] raw pixel accuracy for sigmoid kernel:56.00%\n"
     ]
    }
   ],
   "source": [
    "# train and evaluate a SVM classifer on the histogram\n",
    "# representations\n",
    "print(\"[INFO] evaluating histogram accuracy\")\n",
    "scores_hist = [];\n",
    "for k in range(len(svm_kernel)) :\n",
    "    model = SVC(kernel=svm_kernel[k], C=1, random_state=0)\n",
    "    model.fit(trainFeat, trainLabels)\n",
    "    Labels_pred = model.predict(testFeat)\n",
    "    acc = model.score(testFeat, testLabels)\n",
    "    scores_hist.append(acc)\n",
    "    print(\"[INFO] raw pixel accuracy for\",svm_kernel[k],\"kernel:{:.2f}%\".format(acc * 100))"
   ]
  },
  {
   "cell_type": "code",
   "execution_count": 10,
   "metadata": {},
   "outputs": [
    {
     "name": "stdout",
     "output_type": "stream",
     "text": [
      "             precision    recall  f1-score   support\n",
      "\n",
      "       Ankh       0.00      0.00      0.00        22\n",
      "     bouche       0.56      1.00      0.72        28\n",
      "\n",
      "avg / total       0.31      0.56      0.40        50\n",
      "\n",
      "---------------------------------------------------------------------------\n",
      "             precision    recall  f1-score   support\n",
      "\n",
      "       Ankh       0.00      0.00      0.00        22\n",
      "     bouche       0.56      1.00      0.72        28\n",
      "\n",
      "avg / total       0.31      0.56      0.40        50\n",
      "\n"
     ]
    },
    {
     "name": "stderr",
     "output_type": "stream",
     "text": [
      "C:\\Users\\Sarah\\Anaconda3\\lib\\site-packages\\sklearn\\metrics\\classification.py:1113: UndefinedMetricWarning: Precision and F-score are ill-defined and being set to 0.0 in labels with no predicted samples.\n",
      "  'precision', 'predicted', average, warn_for)\n"
     ]
    }
   ],
   "source": [
    "# evaluation modèle SVM\n",
    "print (metrics.classification_report(testRL, RL_pred))\n",
    "print (\"---------------------------------------------------------------------------\")\n",
    "print (metrics.classification_report(testLabels, Labels_pred))"
   ]
  },
  {
   "cell_type": "code",
   "execution_count": 33,
   "metadata": {},
   "outputs": [
    {
     "ename": "ValueError",
     "evalue": "invalid literal for int() with base 10: 'bouche'",
     "output_type": "error",
     "traceback": [
      "\u001b[1;31m---------------------------------------------------------------------------\u001b[0m",
      "\u001b[1;31mValueError\u001b[0m                                Traceback (most recent call last)",
      "\u001b[1;32m<ipython-input-33-7a8bdd22e961>\u001b[0m in \u001b[0;36m<module>\u001b[1;34m()\u001b[0m\n\u001b[0;32m      5\u001b[0m \u001b[1;33m\u001b[0m\u001b[0m\n\u001b[0;32m      6\u001b[0m \u001b[0mX\u001b[0m \u001b[1;33m=\u001b[0m \u001b[0mnp\u001b[0m\u001b[1;33m.\u001b[0m\u001b[0marray\u001b[0m\u001b[1;33m(\u001b[0m\u001b[1;33m[\u001b[0m\u001b[0mtestRI\u001b[0m\u001b[1;33m,\u001b[0m \u001b[0mtestRL\u001b[0m\u001b[1;33m]\u001b[0m\u001b[1;33m)\u001b[0m\u001b[1;33m\u001b[0m\u001b[0m\n\u001b[1;32m----> 7\u001b[1;33m \u001b[0my\u001b[0m \u001b[1;33m=\u001b[0m \u001b[0marray\u001b[0m\u001b[1;33m(\u001b[0m\u001b[0mLabels_pred\u001b[0m\u001b[1;33m,\u001b[0m \u001b[0mdtype\u001b[0m\u001b[1;33m=\u001b[0m\u001b[0mint\u001b[0m\u001b[1;33m)\u001b[0m\u001b[1;33m\u001b[0m\u001b[0m\n\u001b[0m\u001b[0;32m      8\u001b[0m \u001b[1;33m\u001b[0m\u001b[0m\n\u001b[0;32m      9\u001b[0m \u001b[1;31m# Plot Decision Region using mlxtend's awesome plotting function\u001b[0m\u001b[1;33m\u001b[0m\u001b[1;33m\u001b[0m\u001b[0m\n",
      "\u001b[1;31mValueError\u001b[0m: invalid literal for int() with base 10: 'bouche'"
     ]
    }
   ],
   "source": [
    "from sklearn import svm\n",
    "from mlxtend.plotting import plot_decision_regions\n",
    "import pandas as pd\n",
    "from numpy import array\n",
    "\n",
    "X = np.array([testRI, testRL])\n",
    "y = array(Labels_pred, dtype=int)\n",
    "\n",
    "# Plot Decision Region using mlxtend's awesome plotting function\n",
    "plot_decision_regions(X, \n",
    "                      y,\n",
    "                      clf=clf, \n",
    "                      legend=2)\n",
    "\n",
    "# Update plot object with X/Y axis labels and Figure Title\n",
    "plt.xlabel(X.columns[0], size=14)\n",
    "plt.ylabel(X.columns[1], size=14)\n",
    "plt.title('SVM Decision Region Boundary', size=16)"
   ]
  },
  {
   "cell_type": "code",
   "execution_count": null,
   "metadata": {
    "collapsed": true
   },
   "outputs": [],
   "source": []
  }
 ],
 "metadata": {
  "kernelspec": {
   "display_name": "Python 3",
   "language": "python",
   "name": "python3"
  },
  "language_info": {
   "codemirror_mode": {
    "name": "ipython",
    "version": 3
   },
   "file_extension": ".py",
   "mimetype": "text/x-python",
   "name": "python",
   "nbconvert_exporter": "python",
   "pygments_lexer": "ipython3",
   "version": "3.6.1"
  }
 },
 "nbformat": 4,
 "nbformat_minor": 2
}
